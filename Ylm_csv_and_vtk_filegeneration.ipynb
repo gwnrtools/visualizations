{
 "cells": [
  {
   "cell_type": "markdown",
   "id": "41fc9400-eb87-4495-abad-1cd7628d5a79",
   "metadata": {},
   "source": [
    "## To create CSV file for a given ell and emm"
   ]
  },
  {
   "cell_type": "code",
   "execution_count": 8,
   "id": "7ce91a14-ed8a-4d89-b97c-f627e7c9da46",
   "metadata": {},
   "outputs": [
    {
     "name": "stdout",
     "output_type": "stream",
     "text": [
      "Spherical harmonics data saved to 'spherical_harmonics.csv'.\n"
     ]
    }
   ],
   "source": [
    "import numpy as np\n",
    "from scipy.special import sph_harm\n",
    "\n",
    "# Define parameters\n",
    "ell = 2  \n",
    "emm = 1 \n",
    "theta, phi = np.mgrid[0:2*np.pi:100j, 0:np.pi:50j]  \n",
    "\n",
    "# Calculate spherical harmonics\n",
    "Y_lm = sph_harm(emm, ell, phi, theta).real\n",
    "\n",
    "# Flatten the array to make it one-dimensional\n",
    "Y_lm_flattened = Y_lm.flatten()\n",
    "\n",
    "# Save the data to a file\n",
    "np.savetxt('spherical_harmonics.csv', Y_lm_flattened, delimiter=',')\n",
    "\n",
    "print(\"Spherical harmonics data saved to 'spherical_harmonics.csv'.\")\n"
   ]
  },
  {
   "cell_type": "code",
   "execution_count": null,
   "id": "6a1a02be-dc8b-47fb-b8fc-e1b7af3388c4",
   "metadata": {},
   "outputs": [],
   "source": []
  },
  {
   "cell_type": "markdown",
   "id": "bc3eda7a-360b-4683-bd02-9b51ddab2ea6",
   "metadata": {},
   "source": [
    "## To create vtk file for given ell and emm"
   ]
  },
  {
   "cell_type": "code",
   "execution_count": 9,
   "id": "d5267ede-c5b3-4da6-9f51-606893f12270",
   "metadata": {},
   "outputs": [
    {
     "data": {
      "text/plain": [
       "1"
      ]
     },
     "execution_count": 9,
     "metadata": {},
     "output_type": "execute_result"
    }
   ],
   "source": [
    "import numpy as np\n",
    "from scipy.special import sph_harm\n",
    "import vtk\n",
    "\n",
    "# Define parameters\n",
    "ell = 2  \n",
    "emm = 1  \n",
    "\n",
    "# Define grid for theta and phi\n",
    "theta, phi = np.mgrid[0:np.pi:100j, 0:2*np.pi:200j]\n",
    "\n",
    "# Calculate spherical harmonics\n",
    "Y_lm = sph_harm(emm, ell, phi, theta).real\n",
    "\n",
    "# Convert spherical coordinates to Cartesian coordinates\n",
    "x = np.sin(theta) * np.cos(phi)\n",
    "y = np.sin(theta) * np.sin(phi)\n",
    "z = np.cos(theta)\n",
    "\n",
    "# Reshape arrays for better handling\n",
    "x_flat = x.flatten()\n",
    "y_flat = y.flatten()\n",
    "z_flat = z.flatten()\n",
    "Y_lm_flat = Y_lm.flatten()\n",
    "\n",
    "# Create vtkPoints object\n",
    "points = vtk.vtkPoints()\n",
    "\n",
    "# Add points to vtkPoints object\n",
    "for i in range(len(x_flat)):\n",
    "    points.InsertNextPoint(x_flat[i], y_flat[i], z_flat[i])\n",
    "\n",
    "# Create vtkPolyData object\n",
    "polydata = vtk.vtkPolyData()\n",
    "polydata.SetPoints(points)\n",
    "\n",
    "# Create vtkFloatArray to store scalar data\n",
    "scalars = vtk.vtkFloatArray()\n",
    "scalars.SetNumberOfComponents(1)\n",
    "scalars.SetName(\"Y_lm\")\n",
    "\n",
    "# Add scalar data to vtkFloatArray\n",
    "for val in Y_lm_flat:\n",
    "    scalars.InsertNextValue(val)\n",
    "\n",
    "# Add scalar data to polydata\n",
    "polydata.GetPointData().SetScalars(scalars)\n",
    "\n",
    "# Create triangular cells for the sphere's surface\n",
    "triangulate = vtk.vtkTriangleFilter()\n",
    "triangulate.SetInputData(polydata)\n",
    "triangulate.Update()\n",
    "\n",
    "# Write polydata to a VTK file\n",
    "writer = vtk.vtkPolyDataWriter()\n",
    "writer.SetFileName(\"spherical_harmonics.vtk\")\n",
    "writer.SetInputData(triangulate.GetOutput())\n",
    "writer.Write()\n"
   ]
  },
  {
   "cell_type": "code",
   "execution_count": null,
   "id": "bdf1b409-174a-48a7-a8b8-a6a45206970c",
   "metadata": {},
   "outputs": [],
   "source": []
  },
  {
   "cell_type": "markdown",
   "id": "4b72bc92-a63a-4be6-a824-9c785f471c9f",
   "metadata": {},
   "source": [
    "## Function to produce csv file (inputs: ell, emm)"
   ]
  },
  {
   "cell_type": "code",
   "execution_count": 10,
   "id": "a8801d1f-b2c7-491b-bd2a-d0d412035f02",
   "metadata": {},
   "outputs": [],
   "source": [
    "def csvylm (ell, emm):\n",
    "    \n",
    "    import numpy as np\n",
    "    from scipy.special import sph_harm\n",
    "\n",
    "    theta, phi = np.mgrid[0:2*np.pi:100j, 0:np.pi:50j]  \n",
    "    \n",
    "    # Calculate spherical harmonics\n",
    "    Y_lm = sph_harm(emm, ell, phi, theta).real\n",
    "    \n",
    "    # Flatten the array to make it one-dimensional\n",
    "    Y_lm_flattened = Y_lm.flatten()\n",
    "    \n",
    "    # Save the data to a file\n",
    "    file_name = f'Y_{ell}_{emm}.csv'\n",
    "    np.savetxt(file_name, Y_lm_flattened, delimiter=',')\n",
    "    \n",
    "    print(f\"Spherical harmonics data saved to '{file_name}'.\")\n"
   ]
  },
  {
   "cell_type": "markdown",
   "id": "e5656130-b5d0-41e0-b07e-43ab4770a70f",
   "metadata": {},
   "source": [
    "#### example usage:"
   ]
  },
  {
   "cell_type": "code",
   "execution_count": 11,
   "id": "86254f20-83d4-4c57-993e-be30d29d2e62",
   "metadata": {},
   "outputs": [
    {
     "name": "stdout",
     "output_type": "stream",
     "text": [
      "Spherical harmonics data saved to 'Y_2_2.csv'.\n"
     ]
    }
   ],
   "source": [
    "csvylm(2,2)"
   ]
  },
  {
   "cell_type": "code",
   "execution_count": null,
   "id": "0e3d6ae6-0626-4882-b741-603179433487",
   "metadata": {},
   "outputs": [],
   "source": []
  },
  {
   "cell_type": "markdown",
   "id": "9dac901a-1abf-4099-88a7-d315b2db8760",
   "metadata": {},
   "source": [
    "## Function to produce vtk file (inputs: ell, emm)"
   ]
  },
  {
   "cell_type": "code",
   "execution_count": 12,
   "id": "8cf058d5-5419-42ec-8a01-a6b4db6e8d49",
   "metadata": {},
   "outputs": [],
   "source": [
    "def vtkylm (ell, emm):\n",
    "    import numpy as np\n",
    "    from scipy.special import sph_harm\n",
    "    import vtk\n",
    "\n",
    "    # Define grid for theta and phi\n",
    "    theta, phi = np.mgrid[0:np.pi:100j, 0:2*np.pi:200j]\n",
    "    \n",
    "    # Calculate spherical harmonics\n",
    "    Y_lm = sph_harm(emm, ell, phi, theta).real\n",
    "    \n",
    "    # Convert spherical coordinates to Cartesian coordinates\n",
    "    x = np.sin(theta) * np.cos(phi)\n",
    "    y = np.sin(theta) * np.sin(phi)\n",
    "    z = np.cos(theta)\n",
    "    \n",
    "    # Reshape arrays for better handling\n",
    "    x_flat = x.flatten()\n",
    "    y_flat = y.flatten()\n",
    "    z_flat = z.flatten()\n",
    "    Y_lm_flat = Y_lm.flatten()\n",
    "    \n",
    "    # Create vtkPoints object\n",
    "    points = vtk.vtkPoints()\n",
    "    \n",
    "    # Add points to vtkPoints object\n",
    "    for i in range(len(x_flat)):\n",
    "        points.InsertNextPoint(x_flat[i], y_flat[i], z_flat[i])\n",
    "    \n",
    "    # Create vtkPolyData object\n",
    "    polydata = vtk.vtkPolyData()\n",
    "    polydata.SetPoints(points)\n",
    "    \n",
    "    # Create vtkFloatArray to store scalar data\n",
    "    scalars = vtk.vtkFloatArray()\n",
    "    scalars.SetNumberOfComponents(1)\n",
    "    scalars.SetName(\"Y_lm\")\n",
    "    \n",
    "    # Add scalar data to vtkFloatArray\n",
    "    for val in Y_lm_flat:\n",
    "        scalars.InsertNextValue(val)\n",
    "    \n",
    "    # Add scalar data to polydata\n",
    "    polydata.GetPointData().SetScalars(scalars)\n",
    "    \n",
    "    # Create triangular cells for the sphere's surface\n",
    "    triangulate = vtk.vtkTriangleFilter()\n",
    "    triangulate.SetInputData(polydata)\n",
    "    triangulate.Update()\n",
    "    \n",
    "    # Write polydata to a VTK file\n",
    "    file_name = f\"Y_{ell}_{emm}.vtk\"\n",
    "    writer = vtk.vtkPolyDataWriter()\n",
    "    writer.SetFileName(file_name)\n",
    "    writer.SetInputData(triangulate.GetOutput())\n",
    "    writer.Write()\n",
    "    \n",
    "    print(f\"Spherical harmonics data saved to '{file_name}'.\")"
   ]
  },
  {
   "cell_type": "markdown",
   "id": "32b9f93e-e565-4a39-b20f-eefb572cbbf3",
   "metadata": {},
   "source": [
    "#### example usage:"
   ]
  },
  {
   "cell_type": "code",
   "execution_count": 13,
   "id": "98bae5f3-1c02-4427-8401-7186494e3ec3",
   "metadata": {},
   "outputs": [
    {
     "name": "stdout",
     "output_type": "stream",
     "text": [
      "Spherical harmonics data saved to 'Y_3_2.vtk'.\n"
     ]
    }
   ],
   "source": [
    "vtkylm(3,2)"
   ]
  },
  {
   "cell_type": "code",
   "execution_count": null,
   "id": "aa90168f-b51a-467a-86cd-cf0cf3811876",
   "metadata": {},
   "outputs": [],
   "source": []
  }
 ],
 "metadata": {
  "kernelspec": {
   "display_name": "Python 3 (ipykernel)",
   "language": "python",
   "name": "python3"
  },
  "language_info": {
   "codemirror_mode": {
    "name": "ipython",
    "version": 3
   },
   "file_extension": ".py",
   "mimetype": "text/x-python",
   "name": "python",
   "nbconvert_exporter": "python",
   "pygments_lexer": "ipython3",
   "version": "3.11.5"
  }
 },
 "nbformat": 4,
 "nbformat_minor": 5
}
