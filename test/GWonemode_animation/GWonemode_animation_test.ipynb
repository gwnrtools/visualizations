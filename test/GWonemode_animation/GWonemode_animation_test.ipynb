{
 "cells": [
  {
   "cell_type": "code",
   "execution_count": 1,
   "id": "94b54849-630c-4578-8c42-cd023c7c3e01",
   "metadata": {},
   "outputs": [
    {
     "name": "stdout",
     "output_type": "stream",
     "text": [
      "/home/bhuvaneshwari.kashi/miniconda3/lib/python3.11/site-packages/waveformtools\n",
      "No module named 'config'\n"
     ]
    }
   ],
   "source": [
    "import GWonemode"
   ]
  },
  {
   "cell_type": "code",
   "execution_count": 2,
   "id": "054d1abf-866a-4466-a836-cf34edaa61de",
   "metadata": {},
   "outputs": [
    {
     "name": "stdout",
     "output_type": "stream",
     "text": [
      "Images are being created\n"
     ]
    },
    {
     "name": "stderr",
     "output_type": "stream",
     "text": [
      "100%|██████████| 1605/1605 [09:16<00:00,  2.88it/s]\n"
     ]
    },
    {
     "name": "stdout",
     "output_type": "stream",
     "text": [
      "Images are saved in the output directory\n",
      "Images are being converted to video\n",
      "Your Video is ready\n"
     ]
    }
   ],
   "source": [
    "ell = 4\n",
    "emm = 2\n",
    "hdata_path = '/mnt/pfs/bhuvaneshwari.kashi/Visualizations/Clm/rhOverM_Extrapolated_N6_CoM.h5'\n",
    "output_dir = 'frames_42'\n",
    "video_name = 'GWmode42.mp4'\n",
    "fps = 24\n",
    "step = 10\n",
    "\n",
    "visualizer = GWonemode.GW_onemode_animator(ell, emm, hdata_path, step, fps, output_dir, video_name)\n",
    "visualizer.run()"
   ]
  },
  {
   "cell_type": "code",
   "execution_count": null,
   "id": "233ec904-794f-4dad-b154-33916aed6d64",
   "metadata": {},
   "outputs": [],
   "source": []
  }
 ],
 "metadata": {
  "kernelspec": {
   "display_name": "Python 3 (ipykernel)",
   "language": "python",
   "name": "python3"
  },
  "language_info": {
   "codemirror_mode": {
    "name": "ipython",
    "version": 3
   },
   "file_extension": ".py",
   "mimetype": "text/x-python",
   "name": "python",
   "nbconvert_exporter": "python",
   "pygments_lexer": "ipython3",
   "version": "3.11.9"
  }
 },
 "nbformat": 4,
 "nbformat_minor": 5
}
